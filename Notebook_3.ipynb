{
 "cells": [
  {
   "cell_type": "markdown",
   "id": "59c57f96-3c87-4755-ac0b-8761d43ff441",
   "metadata": {},
   "source": [
    "Load and Join Employees and Departments data"
   ]
  },
  {
   "cell_type": "code",
   "execution_count": 1,
   "id": "a12d3776-5caf-4ea5-a621-6897024ef005",
   "metadata": {},
   "outputs": [],
   "source": [
    "# SparkSession is entry point for Dataframes and datasets, not RDDs.\n",
    "import logging\n",
    "from pyspark.sql import SparkSession"
   ]
  },
  {
   "cell_type": "code",
   "execution_count": 6,
   "id": "4b33381b-48ea-421f-a8ec-7521c7af343e",
   "metadata": {},
   "outputs": [],
   "source": [
    "def rdd_to_dataframe(data, schema):\n",
    "    \"\"\"\n",
    "    Example: This fn creates a Spark RDD, loads it into a Spark DataFrame, and returns the DataFrame \n",
    "    \"\"\"\n",
    "        \n",
    "    # Create a SparkSession\n",
    "    spark = SparkSession.builder.appName(\"RDDToDataFrame\").getOrCreate()\n",
    "\n",
    "    try:\n",
    "        # Create an RDD from the input data, using Spark Context not Session!\n",
    "        rdd = spark.sparkContext.parallelize(data)\n",
    "\n",
    "        # Convert RDD to DataFrame\n",
    "        df = spark.createDataFrame(rdd, schema)\n",
    "\n",
    "        # Return the DataFrame, without stopping the SparkSession\n",
    "        return df\n",
    "\n",
    "    except Exception as e:\n",
    "        # Log error and Stop the SparkSession\n",
    "        logging.error('Error while transforming RDD to DF: {}'.format(e))\n",
    "        spark.stop()"
   ]
  },
  {
   "cell_type": "code",
   "execution_count": 7,
   "id": "376c84f1-547b-4b7d-9243-db5db84dd9b7",
   "metadata": {},
   "outputs": [],
   "source": [
    "# Data sample\n",
    "dept_data = [(1,\"Big Data\"), (2, \"Finance\"), (3,\"Marketing\")]\n",
    "dept_schema = [\"department_id\", \"department_name\"]"
   ]
  },
  {
   "cell_type": "code",
   "execution_count": 8,
   "id": "f1652967-f69e-4d21-9485-640658accf34",
   "metadata": {},
   "outputs": [],
   "source": [
    "# Data sample\n",
    "emp_data = [(1,\"Sita\", 17), (1,\"Gita\", 30), (2,\"Mohan\", 26)]\n",
    "emp_schema = [\"department_id\",\"employee_name\", \"age\"]"
   ]
  },
  {
   "cell_type": "markdown",
   "id": "1931debb-950a-4975-a0b1-813915698c9a",
   "metadata": {},
   "source": [
    "Using spark RDD as spark dataframe"
   ]
  },
  {
   "cell_type": "code",
   "execution_count": 9,
   "id": "71a14191-1047-46c8-ac79-7440efdbd8bd",
   "metadata": {},
   "outputs": [
    {
     "name": "stderr",
     "output_type": "stream",
     "text": [
      "24/03/17 08:11:35 WARN Utils: Your hostname, sasa-1-2 resolves to a loopback address: 127.0.1.1; using 10.0.2.15 instead (on interface enp0s3)\n",
      "24/03/17 08:11:35 WARN Utils: Set SPARK_LOCAL_IP if you need to bind to another address\n",
      "Setting default log level to \"WARN\".\n",
      "To adjust logging level use sc.setLogLevel(newLevel). For SparkR, use setLogLevel(newLevel).\n",
      "24/03/17 08:11:39 WARN NativeCodeLoader: Unable to load native-hadoop library for your platform... using builtin-java classes where applicable\n",
      "                                                                                \r"
     ]
    }
   ],
   "source": [
    "# Call function, to transform RDD into DF\n",
    "df_emp = rdd_to_dataframe(emp_data, emp_schema)\n",
    "df_dept = rdd_to_dataframe(dept_data, dept_schema)"
   ]
  },
  {
   "cell_type": "code",
   "execution_count": 10,
   "id": "baa99424-2514-425d-aaa6-b1f847f0d927",
   "metadata": {},
   "outputs": [
    {
     "name": "stdout",
     "output_type": "stream",
     "text": [
      "+-------------+---------------+\n",
      "|department_id|department_name|\n",
      "+-------------+---------------+\n",
      "|            1|       Big Data|\n",
      "|            2|        Finance|\n",
      "|            3|      Marketing|\n",
      "+-------------+---------------+\n",
      "\n"
     ]
    }
   ],
   "source": [
    "# Show schema\n",
    "df_dept.show()"
   ]
  },
  {
   "cell_type": "code",
   "execution_count": 11,
   "id": "5387ff98-b622-49e7-b3ff-3af414fd0818",
   "metadata": {},
   "outputs": [
    {
     "name": "stdout",
     "output_type": "stream",
     "text": [
      "root\n",
      " |-- department_id: long (nullable = true)\n",
      " |-- employee_name: string (nullable = true)\n",
      " |-- age: long (nullable = true)\n",
      "\n"
     ]
    }
   ],
   "source": [
    "df_emp.printSchema()"
   ]
  },
  {
   "cell_type": "markdown",
   "id": "e6296d65-3c47-4ef2-8525-a27ed13676dc",
   "metadata": {},
   "source": [
    "Using spark SQL to join two datasets, dept and emp"
   ]
  },
  {
   "cell_type": "code",
   "execution_count": 12,
   "id": "ff2dec5a-de40-4cc4-8500-5b961b5f79bf",
   "metadata": {},
   "outputs": [],
   "source": [
    "# Do we have a session running?\n",
    "# Gets an existing SparkSession or, if there is no existing one,\n",
    "# creates a new one based on the options set in this builder.\n",
    "spark = SparkSession.builder.appName(\"RDDToDataFrame\").getOrCreate()"
   ]
  },
  {
   "cell_type": "code",
   "execution_count": 13,
   "id": "cc49f64d-d0ba-4005-b801-19b3392ed63e",
   "metadata": {},
   "outputs": [],
   "source": [
    "# Register as view for spark.sql\n",
    "'''\n",
    "    Some KeyPoints to note:\n",
    "\n",
    "    createOrReplaceTempView() is used when you wanted to store the table for a specific spark session.\n",
    "    Once created you can use it to run SQL queries.\n",
    "    These temporary views are session-scoped i.e. valid only that running spark session.\n",
    "    It can’t be shared between the sessions\n",
    "    These views will be dropped when the session ends unless you created it as Hive table.\n",
    "    Use saveAsTable() to materialize the contents of the DataFrame and create a pointer to the data in the metastore.\n",
    "'''\n",
    "df_emp.createOrReplaceTempView('employees')\n",
    "df_dept.createOrReplaceTempView('departments')"
   ]
  },
  {
   "cell_type": "code",
   "execution_count": 14,
   "id": "f290caf6-905e-4979-88ce-eb8d547fd14f",
   "metadata": {},
   "outputs": [
    {
     "name": "stderr",
     "output_type": "stream",
     "text": [
      "[Stage 7:==============>                                            (1 + 3) / 4]\r"
     ]
    },
    {
     "name": "stdout",
     "output_type": "stream",
     "text": [
      "+-------------+-------------+---+-------------+---------------+\n",
      "|department_id|employee_name|age|department_id|department_name|\n",
      "+-------------+-------------+---+-------------+---------------+\n",
      "|            1|         Gita| 30|            1|       Big Data|\n",
      "|            2|        Mohan| 26|            2|        Finance|\n",
      "+-------------+-------------+---+-------------+---------------+\n",
      "\n"
     ]
    },
    {
     "name": "stderr",
     "output_type": "stream",
     "text": [
      "                                                                                \r"
     ]
    }
   ],
   "source": [
    "# Query sample, using Spark SQL\n",
    "spark.sql('''\n",
    "            select emp.*, dept.*\n",
    "            from employees as emp\n",
    "                inner join departments as dept on (emp.department_id = dept.department_id) \n",
    "            where age >= 18\n",
    "            ''').show()"
   ]
  },
  {
   "cell_type": "code",
   "execution_count": 16,
   "id": "78b3b17e-588a-4d9c-a8af-b4e3f0fbe0a9",
   "metadata": {},
   "outputs": [],
   "source": [
    "# Let's now save the JOINED RESULTSET into a new Temporary View\n",
    "spark.sql('''\n",
    "        select emp.employee_name, emp.age, emp.department_id, dept.department_name\n",
    "        from employees as emp\n",
    "            inner join departments as dept on (emp.department_id = dept.department_id)\n",
    "             where age >= 18\n",
    "        ''').createOrReplaceTempView('dept_employees')"
   ]
  },
  {
   "cell_type": "code",
   "execution_count": 17,
   "id": "49e4a4ff-7e73-4c59-a9e5-3cd6e07ef35d",
   "metadata": {},
   "outputs": [
    {
     "name": "stderr",
     "output_type": "stream",
     "text": [
      "[Stage 11:=============================>                            (2 + 2) / 4]\r"
     ]
    },
    {
     "name": "stdout",
     "output_type": "stream",
     "text": [
      "+-------------+---+-------------+---------------+\n",
      "|employee_name|age|department_id|department_name|\n",
      "+-------------+---+-------------+---------------+\n",
      "|         Gita| 30|            1|       Big Data|\n",
      "|        Mohan| 26|            2|        Finance|\n",
      "+-------------+---+-------------+---------------+\n",
      "\n"
     ]
    },
    {
     "name": "stderr",
     "output_type": "stream",
     "text": [
      "                                                                                \r"
     ]
    }
   ],
   "source": [
    "spark.sql('''\n",
    "        select * from dept_employees where department_id is not null\n",
    "        ''').show()"
   ]
  },
  {
   "cell_type": "markdown",
   "id": "26bdacb2-6999-47a4-80e0-96c3f71630ee",
   "metadata": {},
   "source": [
    "Save this output for Business data consumers."
   ]
  },
  {
   "cell_type": "code",
   "execution_count": 21,
   "id": "27867ede-96f4-40ef-aa96-9ce4c7337b5a",
   "metadata": {},
   "outputs": [],
   "source": [
    "# Define output location\n",
    "output_location = '/home/sasa/output/dept_employees/'\n",
    "\n",
    "# Let's now save the JOINED RESULTSET to local storage. This could be Amazon S3 or other. \n",
    "spark.sql('''\n",
    "        select * from dept_employees where department_id is not null\n",
    "        ''').write.mode('append').csv(output_location)"
   ]
  },
  {
   "cell_type": "markdown",
   "id": "17bef1cc-b019-4331-8611-43d80dbc9e16",
   "metadata": {},
   "source": [
    "Description of output file: There are two files generated at the output_location\n",
    "1) _SUCCESS -This is blank.\n",
    "2) part00000-mhfjdkl-c000.csv   - This file contains the output result."
   ]
  }
 ],
 "metadata": {
  "kernelspec": {
   "display_name": "Python 3 (ipykernel)",
   "language": "python",
   "name": "python3"
  },
  "language_info": {
   "codemirror_mode": {
    "name": "ipython",
    "version": 3
   },
   "file_extension": ".py",
   "mimetype": "text/x-python",
   "name": "python",
   "nbconvert_exporter": "python",
   "pygments_lexer": "ipython3",
   "version": "3.11.6"
  }
 },
 "nbformat": 4,
 "nbformat_minor": 5
}
