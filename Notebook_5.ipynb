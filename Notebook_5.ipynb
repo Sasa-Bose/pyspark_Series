{
 "cells": [
  {
   "cell_type": "markdown",
   "id": "d73f19f3-b988-4d68-806d-b2132f1ef731",
   "metadata": {},
   "source": [
    "Spark Streaming"
   ]
  },
  {
   "cell_type": "code",
   "execution_count": 27,
   "id": "6c13d776-520c-4368-9fe0-a2ca8dd611ef",
   "metadata": {},
   "outputs": [],
   "source": [
    "from pyspark.sql import SparkSession\n",
    "from pyspark.sql import functions as sqlfn\n",
    "from pyspark.sql import types as sqlt"
   ]
  },
  {
   "cell_type": "code",
   "execution_count": 28,
   "id": "6053e203-746a-4328-b42f-af91c86af7a8",
   "metadata": {},
   "outputs": [],
   "source": [
    "# We need two threads('local[2]), one to stream and another one to conume the data.\n",
    "spark = SparkSession.builder.appName('SparkStreamingLab1').master('local[2]').getOrCreate()"
   ]
  },
  {
   "cell_type": "code",
   "execution_count": 36,
   "id": "7ebc0ecf-7fec-47dc-b7c8-77b126c5a6a5",
   "metadata": {},
   "outputs": [],
   "source": [
    "# Enforce schema, to avoid dynamic changes that can break things!\n",
    "schema_employee = sqlt.StructType([\n",
    "    sqlt.StructField('employee_id',sqlt.IntegerType(), True),\n",
    "    sqlt.StructField('department_name',sqlt.StringType(), True),\n",
    "    sqlt.StructField('name',sqlt.StringType(), True),\n",
    "    sqlt.StructField('last_name',sqlt.StringType(), True),\n",
    "    sqlt.StructField('hire_timestamp',sqlt.TimestampType(), True)\n",
    "])"
   ]
  },
  {
   "cell_type": "code",
   "execution_count": 37,
   "id": "986ac984-640e-475f-97da-e4e1ff63bbb4",
   "metadata": {},
   "outputs": [],
   "source": [
    "# Read Stream\n",
    "df_employees = spark.readStream.format('csv').schema(schema_employee)\\\n",
    "                    .option('header',True)\\\n",
    "                    .option('maxFilesPerTrigger',1)\\\n",
    "                    .load(r'/home/sasa/Downloads/Code/notebooks/datasets/csv')"
   ]
  },
  {
   "cell_type": "code",
   "execution_count": 38,
   "id": "e4a391e0-7419-4a5b-8a0c-68d6269db778",
   "metadata": {},
   "outputs": [
    {
     "data": {
      "text/plain": [
       "True"
      ]
     },
     "execution_count": 38,
     "metadata": {},
     "output_type": "execute_result"
    }
   ],
   "source": [
    "# Is my stream activated?\n",
    "df_employees.isStreaming"
   ]
  },
  {
   "cell_type": "code",
   "execution_count": 39,
   "id": "05536338-8949-4438-9b4e-b4301eaf9447",
   "metadata": {},
   "outputs": [
    {
     "name": "stdout",
     "output_type": "stream",
     "text": [
      "root\n",
      " |-- employee_id: integer (nullable = true)\n",
      " |-- department_name: string (nullable = true)\n",
      " |-- name: string (nullable = true)\n",
      " |-- last_name: string (nullable = true)\n",
      " |-- hire_timestamp: timestamp (nullable = true)\n",
      "\n"
     ]
    }
   ],
   "source": [
    "# Show schema\n",
    "df_employees.printSchema()"
   ]
  },
  {
   "cell_type": "code",
   "execution_count": 40,
   "id": "d559378e-0725-49bf-8250-beec68cc45bb",
   "metadata": {},
   "outputs": [],
   "source": [
    "# Add aggregation\n",
    "df_large_teams = df_employees.withWatermark(\"hire_timestamp\", \"10 minutes\")\\\n",
    "                    .groupBy('department_name','hire_timestamp')\\\n",
    "                        .agg((sqlfn.count('employee_id').alias('count')), sqlfn.max('hire_timestamp')).where ('count >1')"
   ]
  },
  {
   "cell_type": "code",
   "execution_count": 41,
   "id": "25aef9c9-057b-468e-9318-a40c9b54358d",
   "metadata": {},
   "outputs": [
    {
     "name": "stderr",
     "output_type": "stream",
     "text": [
      "24/03/18 12:49:31 WARN ResolveWriteToStream: Temporary checkpoint location created which is deleted normally when the query didn't fail: /tmp/temporary-090ee51b-fd59-4717-a6d7-1d16e2ff9f78. If it's required to delete it under any circumstances, please set spark.sql.streaming.forceDeleteTempCheckpointLocation to true. Important to know deleting temp checkpoint folder is best effort.\n",
      "24/03/18 12:49:31 WARN ResolveWriteToStream: spark.sql.adaptive.enabled is not supported in streaming DataFrames/Datasets and will be disabled.\n",
      "                                                                                \r"
     ]
    },
    {
     "name": "stdout",
     "output_type": "stream",
     "text": [
      "-------------------------------------------\n",
      "Batch: 0\n",
      "-------------------------------------------\n",
      "+---------------+--------------+-----+-------------------+\n",
      "|department_name|hire_timestamp|count|max(hire_timestamp)|\n",
      "+---------------+--------------+-----+-------------------+\n",
      "+---------------+--------------+-----+-------------------+\n",
      "\n"
     ]
    },
    {
     "name": "stderr",
     "output_type": "stream",
     "text": [
      "                                                                                \r"
     ]
    },
    {
     "name": "stdout",
     "output_type": "stream",
     "text": [
      "-------------------------------------------\n",
      "Batch: 1\n",
      "-------------------------------------------\n",
      "+--------------------+-------------------+-----+-------------------+\n",
      "|     department_name|     hire_timestamp|count|max(hire_timestamp)|\n",
      "+--------------------+-------------------+-----+-------------------+\n",
      "|           Marketing|2023-08-20 13:20:13|    2|2023-08-20 13:20:13|\n",
      "|            Big Data|2023-08-20 13:40:17|    2|2023-08-20 13:40:17|\n",
      "|              Design|2023-08-20 13:20:14|    2|2023-08-20 13:20:14|\n",
      "|            Big Data|2023-08-20 13:20:16|    2|2023-08-20 13:20:16|\n",
      "|Software Engineering|2023-08-20 13:20:15|    2|2023-08-20 13:20:15|\n",
      "|             Finance|2023-08-20 13:20:12|    2|2023-08-20 13:20:12|\n",
      "|            Big Data|2023-08-20 13:20:10|    2|2023-08-20 13:20:10|\n",
      "+--------------------+-------------------+-----+-------------------+\n",
      "\n"
     ]
    },
    {
     "name": "stderr",
     "output_type": "stream",
     "text": [
      "                                                                                \r"
     ]
    },
    {
     "name": "stdout",
     "output_type": "stream",
     "text": [
      "-------------------------------------------\n",
      "Batch: 2\n",
      "-------------------------------------------\n",
      "+--------------------+-------------------+-----+-------------------+\n",
      "|     department_name|     hire_timestamp|count|max(hire_timestamp)|\n",
      "+--------------------+-------------------+-----+-------------------+\n",
      "|           Marketing|2023-08-20 13:20:13|    3|2023-08-20 13:20:13|\n",
      "|            Big Data|2023-08-20 13:40:17|    3|2023-08-20 13:40:17|\n",
      "|              Design|2023-08-20 13:20:14|    3|2023-08-20 13:20:14|\n",
      "|            Big Data|2023-08-20 13:20:16|    3|2023-08-20 13:20:16|\n",
      "|Software Engineering|2023-08-20 13:20:15|    3|2023-08-20 13:20:15|\n",
      "|             Finance|2023-08-20 13:20:12|    3|2023-08-20 13:20:12|\n",
      "|            Big Data|2023-08-20 13:20:10|    3|2023-08-20 13:20:10|\n",
      "+--------------------+-------------------+-----+-------------------+\n",
      "\n"
     ]
    }
   ],
   "source": [
    "df_stream_large_teams = df_large_teams.writeStream.format('console').outputMode('complete').start()"
   ]
  },
  {
   "cell_type": "code",
   "execution_count": 42,
   "id": "fcd82102-bbda-4d59-98df-45545487dc43",
   "metadata": {},
   "outputs": [
    {
     "name": "stderr",
     "output_type": "stream",
     "text": [
      "24/03/18 12:59:10 WARN ResolveWriteToStream: spark.sql.adaptive.enabled is not supported in streaming DataFrames/Datasets and will be disabled.\n",
      "                                                                                \r"
     ]
    }
   ],
   "source": [
    "df_stream_large_teams = df_large_teams.writeStream\\\n",
    "                                    .format('csv')\\\n",
    "                                    .outputMode('append')\\\n",
    "                                    .option(\"path\", \"output/large_depts/\")\\\n",
    "                                    .option(\"checkpointLocation\", \"/home/sasa/Downloads/Code/notebooks/datasets/checkpoints/\")\\\n",
    "                                    .start()"
   ]
  },
  {
   "cell_type": "code",
   "execution_count": 43,
   "id": "a5d60aba-c122-4dda-b664-234c20dea55d",
   "metadata": {},
   "outputs": [],
   "source": [
    "# Stop stream\n",
    "df_stream_large_teams.stop()"
   ]
  },
  {
   "cell_type": "code",
   "execution_count": null,
   "id": "7ba2cbb0-37bc-4cd5-a03c-710a211c2391",
   "metadata": {},
   "outputs": [],
   "source": []
  }
 ],
 "metadata": {
  "kernelspec": {
   "display_name": "Python 3 (ipykernel)",
   "language": "python",
   "name": "python3"
  },
  "language_info": {
   "codemirror_mode": {
    "name": "ipython",
    "version": 3
   },
   "file_extension": ".py",
   "mimetype": "text/x-python",
   "name": "python",
   "nbconvert_exporter": "python",
   "pygments_lexer": "ipython3",
   "version": "3.11.6"
  }
 },
 "nbformat": 4,
 "nbformat_minor": 5
}
