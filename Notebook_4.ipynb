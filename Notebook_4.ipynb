{
 "cells": [
  {
   "cell_type": "markdown",
   "id": "d6bba8b6-fd3f-4086-89b9-74d94a3dca41",
   "metadata": {},
   "source": [
    "Spark SQL"
   ]
  },
  {
   "cell_type": "code",
   "execution_count": 2,
   "id": "55611d9f-f15b-4099-acc6-721426c25b27",
   "metadata": {},
   "outputs": [],
   "source": [
    "import logging\n",
    "from pyspark.sql import SparkSession"
   ]
  },
  {
   "cell_type": "code",
   "execution_count": 3,
   "id": "0991f2ff-81e3-4e1f-ba63-d230edd29dec",
   "metadata": {},
   "outputs": [],
   "source": [
    "def rdd_to_dataframe(data, schema):\n",
    "    \"\"\"\n",
    "    Example: This fn creates a Spark RDD, loads it into a Spark DataFrame, and returns the DataFrame \n",
    "    \"\"\"\n",
    "        \n",
    "    # Create a SparkSession\n",
    "    spark = SparkSession.builder.appName(\"RDDToDataFrame\").getOrCreate()\n",
    "\n",
    "    try:\n",
    "        # Create an RDD from the input data, using Spark Context not Session!\n",
    "        rdd = spark.sparkContext.parallelize(data)\n",
    "\n",
    "        # Convert RDD to DataFrame\n",
    "        df = spark.createDataFrame(rdd, schema)\n",
    "\n",
    "        # Return the DataFrame, without stopping the SparkSession\n",
    "        return df\n",
    "\n",
    "    except Exception as e:\n",
    "        # Log error and Stop the SparkSession\n",
    "        logging.error('Error while transforming RDD to DF: {}'.format(e))\n",
    "        spark.stop()\n"
   ]
  },
  {
   "cell_type": "code",
   "execution_count": 4,
   "id": "13aa5b35-4c9e-4e57-8db3-4e401ca2f6f3",
   "metadata": {},
   "outputs": [],
   "source": [
    "# Data sample\n",
    "dept_data = [(1,\"Big Data\"), (2, \"Finance\"), (3,\"Marketing\")]\n",
    "dept_schema = [\"department_id\", \"department_name\"]\n",
    "# Data sample\n",
    "emp_data = [(1,\"ginny\", 17), (1,\"bobby\", 30), (2,\"Jasmin\", 26),(3,\"Nishi\", 36)]\n",
    "emp_schema = [\"department_id\",\"employee_name\", \"age\"]"
   ]
  },
  {
   "cell_type": "code",
   "execution_count": 5,
   "id": "4c9b3828-472b-4b74-a94d-96838b3f3bcb",
   "metadata": {},
   "outputs": [
    {
     "name": "stderr",
     "output_type": "stream",
     "text": [
      "24/03/17 10:01:11 WARN Utils: Your hostname, sasa-1-2 resolves to a loopback address: 127.0.1.1; using 10.0.2.15 instead (on interface enp0s3)\n",
      "24/03/17 10:01:11 WARN Utils: Set SPARK_LOCAL_IP if you need to bind to another address\n",
      "Setting default log level to \"WARN\".\n",
      "To adjust logging level use sc.setLogLevel(newLevel). For SparkR, use setLogLevel(newLevel).\n",
      "24/03/17 10:01:12 WARN NativeCodeLoader: Unable to load native-hadoop library for your platform... using builtin-java classes where applicable\n",
      "                                                                                \r"
     ]
    }
   ],
   "source": [
    "# Call function, to transform RDD into DF\n",
    "df_emp = rdd_to_dataframe(emp_data, emp_schema)\n",
    "df_dept = rdd_to_dataframe(dept_data, dept_schema)"
   ]
  },
  {
   "cell_type": "code",
   "execution_count": 8,
   "id": "51d0e1c2-e527-471d-8074-7ce45302efd6",
   "metadata": {},
   "outputs": [],
   "source": [
    "# Do we have a session running?\n",
    "spark = SparkSession.builder.appName(\"RDDToDataFrame\").getOrCreate()"
   ]
  },
  {
   "cell_type": "code",
   "execution_count": 9,
   "id": "9e4a2adf-5ba1-41ba-b276-fb00e50aa094",
   "metadata": {},
   "outputs": [],
   "source": [
    "# Register as view\n",
    "df_emp.createOrReplaceTempView('employees')\n",
    "df_dept.createOrReplaceTempView('departments')"
   ]
  },
  {
   "cell_type": "code",
   "execution_count": 10,
   "id": "b9cf5cca-b5ee-4f23-bea5-110fe5c276cf",
   "metadata": {},
   "outputs": [
    {
     "name": "stderr",
     "output_type": "stream",
     "text": [
      "                                                                                \r"
     ]
    },
    {
     "name": "stdout",
     "output_type": "stream",
     "text": [
      "+-------------+-------------+---+-------------+---------------+\n",
      "|department_id|employee_name|age|department_id|department_name|\n",
      "+-------------+-------------+---+-------------+---------------+\n",
      "|            1|        ginny| 17|            1|       Big Data|\n",
      "|            1|        bobby| 30|            1|       Big Data|\n",
      "|            2|       Jasmin| 26|            2|        Finance|\n",
      "|            3|        Nishi| 36|            3|      Marketing|\n",
      "+-------------+-------------+---+-------------+---------------+\n",
      "\n"
     ]
    }
   ],
   "source": [
    "# Query sample, using Spark SQL\n",
    "spark.sql('''\n",
    "            select emp.*, dept.*\n",
    "            from employees as emp\n",
    "                inner join departments as dept on (emp.department_id = dept.department_id) \n",
    "            ''').show()"
   ]
  },
  {
   "cell_type": "code",
   "execution_count": 11,
   "id": "db72d1c0-6f89-4d48-9f63-f2e3bf7eacb1",
   "metadata": {},
   "outputs": [],
   "source": [
    "# Let's now save the JOINED RESULTSET into a new Temporary View -- NO WHERE CLAUSE\n",
    "spark.sql('''\n",
    "        select emp.employee_name, emp.age, emp.department_id, dept.department_name\n",
    "        from employees as emp\n",
    "            inner join departments as dept on (emp.department_id = dept.department_id)\n",
    "        ''').createOrReplaceTempView('dept_employees')"
   ]
  },
  {
   "cell_type": "markdown",
   "id": "ba7f2333-2a45-4a98-8f6e-c6ef77d7e762",
   "metadata": {},
   "source": [
    "Join a third dataset, but with a different format"
   ]
  },
  {
   "cell_type": "code",
   "execution_count": 23,
   "id": "953eef2b-0ecc-42ce-922e-74ce1d093025",
   "metadata": {},
   "outputs": [],
   "source": [
    "# Let's load the data first\n",
    "df_budgets = spark.read.option(\"multiline\",\"true\").json('/home/sasa/Downloads/json/department_budgets.json')"
   ]
  },
  {
   "cell_type": "code",
   "execution_count": 24,
   "id": "15979d9a-418b-462c-9e1b-80b7f2ea1723",
   "metadata": {},
   "outputs": [
    {
     "name": "stdout",
     "output_type": "stream",
     "text": [
      "root\n",
      " |-- budget: long (nullable = true)\n",
      " |-- budget_authorizer: array (nullable = true)\n",
      " |    |-- element: struct (containsNull = true)\n",
      " |    |    |-- cto: struct (nullable = true)\n",
      " |    |    |    |-- last_name: string (nullable = true)\n",
      " |    |    |    |-- name: string (nullable = true)\n",
      " |    |    |    |-- office: string (nullable = true)\n",
      " |-- budget_period: string (nullable = true)\n",
      " |-- department_id: long (nullable = true)\n",
      " |-- offices: array (nullable = true)\n",
      " |    |-- element: struct (containsNull = true)\n",
      " |    |    |-- cost_center: struct (nullable = true)\n",
      " |    |    |    |-- budget_status: string (nullable = true)\n",
      " |    |    |    |-- office: string (nullable = true)\n",
      "\n"
     ]
    }
   ],
   "source": [
    "# Show schema\n",
    "df_budgets.printSchema()"
   ]
  },
  {
   "cell_type": "code",
   "execution_count": 25,
   "id": "96960739-b703-4c44-8394-ceb081829f30",
   "metadata": {},
   "outputs": [
    {
     "name": "stdout",
     "output_type": "stream",
     "text": [
      "+-------------------------------------------------------------------------+\n",
      "|offices                                                                  |\n",
      "+-------------------------------------------------------------------------+\n",
      "|[{{denied, new york}}, {{approved, mumbai}}, {{approved, san francisco}}]|\n",
      "+-------------------------------------------------------------------------+\n",
      "\n"
     ]
    }
   ],
   "source": [
    "# We can still query the data, using Json paths: \n",
    "df_budgets.select('offices').where('department_id == 1').show(truncate=False)"
   ]
  },
  {
   "cell_type": "code",
   "execution_count": 26,
   "id": "d85c1a73-2a12-46f7-b3fa-eb3dd923c9e6",
   "metadata": {},
   "outputs": [
    {
     "name": "stdout",
     "output_type": "stream",
     "text": [
      "+------+--------------------+-------------+-------------+--------------------+\n",
      "|budget|   budget_authorizer|budget_period|department_id|             offices|\n",
      "+------+--------------------+-------------+-------------+--------------------+\n",
      "| 16000|                NULL|         year|            1|[{{denied, new yo...|\n",
      "| 23000|[{{doe, joe, new ...|         year|            2|                NULL|\n",
      "| 12000|                NULL|         year|            3|                NULL|\n",
      "+------+--------------------+-------------+-------------+--------------------+\n",
      "\n"
     ]
    }
   ],
   "source": [
    "df_budgets.show()"
   ]
  },
  {
   "cell_type": "markdown",
   "id": "e4fb6701-8733-42bc-99f0-dae36d01adbd",
   "metadata": {},
   "source": [
    "Querying without flattening JSON"
   ]
  },
  {
   "cell_type": "code",
   "execution_count": 27,
   "id": "aabc0490-915f-4b56-adba-480c128469bd",
   "metadata": {},
   "outputs": [],
   "source": [
    "# Register as Temporary View\n",
    "df_budgets.createOrReplaceTempView('budgets_json')"
   ]
  },
  {
   "cell_type": "markdown",
   "id": "be489c26-a58e-4d4d-a580-2a84f6b7361c",
   "metadata": {},
   "source": [
    "This could lead to Spaghetti code!! 🚨\n",
    "i.e.\n",
    "\n",
    "What if bud.offices have a variable number of items?"
   ]
  },
  {
   "cell_type": "code",
   "execution_count": 28,
   "id": "0b6993c9-9d7a-4dd7-b700-d74248a0df3f",
   "metadata": {},
   "outputs": [
    {
     "name": "stderr",
     "output_type": "stream",
     "text": [
      "                                                                                \r"
     ]
    },
    {
     "name": "stdout",
     "output_type": "stream",
     "text": [
      "+-------------+-------------+------+-------------+--------+---------------+--------+---------------+-------------+---------------+-----------------+-----------------+\n",
      "|employee_name|department_id|budget|budget_period|office_1|budget_status_1|office_2|budget_status_2|     office_3|budget_status_3|         cto_name|    cto_last_name|\n",
      "+-------------+-------------+------+-------------+--------+---------------+--------+---------------+-------------+---------------+-----------------+-----------------+\n",
      "|        ginny|            1| 16000|         year|new york|         denied|  mumbai|       approved|san francisco|       approved|no CTO registered|no CTO registered|\n",
      "|        bobby|            1| 16000|         year|new york|         denied|  mumbai|       approved|san francisco|       approved|no CTO registered|no CTO registered|\n",
      "|       Jasmin|            2| 23000|         year|    NULL|           NULL|    NULL|           NULL|         NULL|           NULL|              joe|              doe|\n",
      "|        Nishi|            3| 12000|         year|    NULL|           NULL|    NULL|           NULL|         NULL|           NULL|no CTO registered|no CTO registered|\n",
      "+-------------+-------------+------+-------------+--------+---------------+--------+---------------+-------------+---------------+-----------------+-----------------+\n",
      "\n"
     ]
    }
   ],
   "source": [
    "# Let's join the third dataset. \n",
    "spark.sql('''\n",
    "          select  emp.employee_name, \n",
    "                  emp.department_id, \n",
    "                  bud.budget, \n",
    "                  bud.budget_period, \n",
    "                  bud.offices[0].cost_center.office as office_1,\n",
    "                  bud.offices[0].cost_center.budget_status as budget_status_1,\n",
    "                  bud.offices[1].cost_center.office as office_2,\n",
    "                  bud.offices[1].cost_center.budget_status as budget_status_2,\n",
    "                  bud.offices[2].cost_center.office as office_3,\n",
    "                  bud.offices[2].cost_center.budget_status as budget_status_3,\n",
    "                  nvl(bud.budget_authorizer[0].cto.name,\"no CTO registered\")  as cto_name,\n",
    "                  nvl(bud.budget_authorizer[0].cto.last_name,\"no CTO registered\") as cto_last_name\n",
    "          from dept_employees as emp\n",
    "            inner join budgets_json as bud on (emp.department_id = bud.department_id)\n",
    "          ''').show()"
   ]
  },
  {
   "cell_type": "markdown",
   "id": "2ea1460c-d995-427a-ae5e-05eb7ac08e8e",
   "metadata": {},
   "source": [
    "Flattening JSON into Columnar format is normally easier, cleaner and more scalable.\n",
    "Suggestion: always test and benchmark performance, to compare Json Paths access vs. flattening"
   ]
  },
  {
   "cell_type": "code",
   "execution_count": 29,
   "id": "5bc58b11-c669-4d1d-8522-9e14ec63d0ae",
   "metadata": {},
   "outputs": [],
   "source": [
    "# - Import required libs. These should be on top\n",
    "import logging\n",
    "from pyspark.sql.types import ArrayType, StructType\n",
    "from pyspark.sql.functions import explode_outer, col"
   ]
  },
  {
   "cell_type": "markdown",
   "id": "214c825e-479a-4781-8103-b229788d8790",
   "metadata": {},
   "source": [
    "There are tons of different approaches to flatten/explode JSON. This is just an example\n",
    "Credits: Function adapted from nmukerje/Pyspark Flatten json repo in GitHub"
   ]
  },
  {
   "cell_type": "code",
   "execution_count": 32,
   "id": "6597fd28-6373-40d1-857d-000899a0ba9f",
   "metadata": {},
   "outputs": [],
   "source": [
    "def flatten_dataframe(df):\n",
    "    \"\"\"\n",
    "    Spark function to flatten nested structs. Function adapted from GitHub: https://bit.ly/43ZegOL\n",
    "    :param df: Spark dataframe with semi-structured types, such as StructType or ArrayType\n",
    "\n",
    "    :return: Spark dataframe\n",
    "    \"\"\"    \n",
    "    try:\n",
    "        # compute Complex Fields (Lists and Structs) in Schema   \n",
    "        complex_fields = dict([(field.name, field.dataType)\n",
    "                                    for field in df.schema.fields\n",
    "                                    if type(field.dataType) == ArrayType or  type(field.dataType) == StructType])\n",
    "            \n",
    "        while len(complex_fields)!=0:\n",
    "            col_name=list(complex_fields.keys())[0]\n",
    "            \n",
    "            # if StructType then convert all sub element to columns.\n",
    "            # i.e. flatten structs\n",
    "            if (type(complex_fields[col_name]) == StructType):\n",
    "                expanded = [col(col_name+'.'+k).alias(col_name+'_'+k) for k in [ n.name for n in  complex_fields[col_name]]]\n",
    "                df=df.select(\"*\", *expanded).drop(col_name)\n",
    "            \n",
    "            # if ArrayType then add the Array Elements as Rows using the explode function\n",
    "            # i.e. explode Arrays\n",
    "            elif (type(complex_fields[col_name]) == ArrayType):    \n",
    "                df=df.withColumn(col_name, explode_outer(col_name))\n",
    "            \n",
    "            # recompute remaining Complex Fields in Schema       \n",
    "            complex_fields = dict([(field.name, field.dataType)\n",
    "                                    for field in df.schema.fields\n",
    "                                    if type(field.dataType) == ArrayType or  type(field.dataType) == StructType])\n",
    "        return df\n",
    "    \n",
    "    except Exception as e:\n",
    "        logging.error('Error while flattening JSON data: {}'.format(e))"
   ]
  },
  {
   "cell_type": "code",
   "execution_count": 33,
   "id": "b786d022-f1b5-497a-bcd1-3cf050c62ad2",
   "metadata": {},
   "outputs": [],
   "source": [
    "# Let's now flatten the data.\n",
    "df_budgets_flat = flatten_dataframe(df_budgets)"
   ]
  },
  {
   "cell_type": "markdown",
   "id": "54bf9451-22c9-4702-8b7f-c4788a248804",
   "metadata": {},
   "source": [
    " Data Duplication when unnesting data!"
   ]
  },
  {
   "cell_type": "code",
   "execution_count": 34,
   "id": "31961395-18f7-4305-81fd-84b8e3406131",
   "metadata": {},
   "outputs": [
    {
     "name": "stdout",
     "output_type": "stream",
     "text": [
      "+------+-------------+-------------+-------------------------------+--------------------------+----------------------------+---------------------------------+--------------------------+\n",
      "|budget|budget_period|department_id|budget_authorizer_cto_last_name|budget_authorizer_cto_name|budget_authorizer_cto_office|offices_cost_center_budget_status|offices_cost_center_office|\n",
      "+------+-------------+-------------+-------------------------------+--------------------------+----------------------------+---------------------------------+--------------------------+\n",
      "| 16000|         year|            1|                           NULL|                      NULL|                        NULL|                           denied|                  new york|\n",
      "| 16000|         year|            1|                           NULL|                      NULL|                        NULL|                         approved|                    mumbai|\n",
      "| 16000|         year|            1|                           NULL|                      NULL|                        NULL|                         approved|             san francisco|\n",
      "| 23000|         year|            2|                            doe|                       joe|                    new york|                             NULL|                      NULL|\n",
      "| 12000|         year|            3|                           NULL|                      NULL|                        NULL|                             NULL|                      NULL|\n",
      "+------+-------------+-------------+-------------------------------+--------------------------+----------------------------+---------------------------------+--------------------------+\n",
      "\n"
     ]
    }
   ],
   "source": [
    "# Show sample\n",
    "df_budgets_flat.show()"
   ]
  },
  {
   "cell_type": "code",
   "execution_count": 35,
   "id": "d5815244-abcc-44c1-9624-fba55641c431",
   "metadata": {},
   "outputs": [
    {
     "name": "stdout",
     "output_type": "stream",
     "text": [
      "root\n",
      " |-- budget: long (nullable = true)\n",
      " |-- budget_period: string (nullable = true)\n",
      " |-- department_id: long (nullable = true)\n",
      " |-- budget_authorizer_cto_last_name: string (nullable = true)\n",
      " |-- budget_authorizer_cto_name: string (nullable = true)\n",
      " |-- budget_authorizer_cto_office: string (nullable = true)\n",
      " |-- offices_cost_center_budget_status: string (nullable = true)\n",
      " |-- offices_cost_center_office: string (nullable = true)\n",
      "\n"
     ]
    }
   ],
   "source": [
    "# New flatten schema\n",
    "df_budgets_flat.printSchema()"
   ]
  },
  {
   "cell_type": "code",
   "execution_count": 36,
   "id": "77d920b4-a41f-4583-88e9-3dfab6ffd3a0",
   "metadata": {},
   "outputs": [],
   "source": [
    "# Same process: register JSON DF as Temporary View\n",
    "df_budgets_flat.createOrReplaceTempView('budgets_flat')"
   ]
  },
  {
   "cell_type": "code",
   "execution_count": 37,
   "id": "bedbaa4f-4e7b-42f0-87ea-a8819eb29858",
   "metadata": {},
   "outputs": [
    {
     "name": "stdout",
     "output_type": "stream",
     "text": [
      "+-------------+---+-------------+---------------+\n",
      "|employee_name|age|department_id|department_name|\n",
      "+-------------+---+-------------+---------------+\n",
      "|        ginny| 17|            1|       Big Data|\n",
      "|        bobby| 30|            1|       Big Data|\n",
      "|       Jasmin| 26|            2|        Finance|\n",
      "|        Nishi| 36|            3|      Marketing|\n",
      "+-------------+---+-------------+---------------+\n",
      "\n"
     ]
    }
   ],
   "source": [
    "# Let's join the third dataset\n",
    "spark.sql('''\n",
    "          select *\n",
    "          from dept_employees\n",
    "          ''').show()"
   ]
  },
  {
   "cell_type": "code",
   "execution_count": 38,
   "id": "547faf1e-1ad7-48e5-b9be-7b1f250ffbea",
   "metadata": {},
   "outputs": [
    {
     "name": "stdout",
     "output_type": "stream",
     "text": [
      "+-------------+-------------+---------------+------+-------------+--------------------------+--------------------------+\n",
      "|department_id|employee_name|department_name|budget|budget_period|offices_cost_center_office|budget_authorizer_cto_name|\n",
      "+-------------+-------------+---------------+------+-------------+--------------------------+--------------------------+\n",
      "|            1|        ginny|       Big Data| 16000|         year|             san francisco|                      NULL|\n",
      "|            1|        ginny|       Big Data| 16000|         year|                    mumbai|                      NULL|\n",
      "|            1|        ginny|       Big Data| 16000|         year|                  new york|                      NULL|\n",
      "|            1|        bobby|       Big Data| 16000|         year|             san francisco|                      NULL|\n",
      "|            1|        bobby|       Big Data| 16000|         year|                    mumbai|                      NULL|\n",
      "|            1|        bobby|       Big Data| 16000|         year|                  new york|                      NULL|\n",
      "|            2|       Jasmin|        Finance| 23000|         year|                      NULL|                       joe|\n",
      "|            3|        Nishi|      Marketing| 12000|         year|                      NULL|                      NULL|\n",
      "+-------------+-------------+---------------+------+-------------+--------------------------+--------------------------+\n",
      "\n"
     ]
    }
   ],
   "source": [
    "# Let's join the third dataset\n",
    "spark.sql('''\n",
    "          select emp.department_id, emp.employee_name, emp.department_name, bud.budget, bud.budget_period, bud.offices_cost_center_office, bud.budget_authorizer_cto_name\n",
    "          from dept_employees as emp\n",
    "            inner join budgets_flat as bud on (emp.department_id = bud.department_id)\n",
    "          ''').show(n=50)"
   ]
  },
  {
   "cell_type": "code",
   "execution_count": null,
   "id": "e0cc2358-7a29-47a0-b089-fa47096fde92",
   "metadata": {},
   "outputs": [],
   "source": []
  }
 ],
 "metadata": {
  "kernelspec": {
   "display_name": "Python 3 (ipykernel)",
   "language": "python",
   "name": "python3"
  },
  "language_info": {
   "codemirror_mode": {
    "name": "ipython",
    "version": 3
   },
   "file_extension": ".py",
   "mimetype": "text/x-python",
   "name": "python",
   "nbconvert_exporter": "python",
   "pygments_lexer": "ipython3",
   "version": "3.11.6"
  }
 },
 "nbformat": 4,
 "nbformat_minor": 5
}
