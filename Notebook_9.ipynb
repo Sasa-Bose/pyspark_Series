{
 "cells": [
  {
   "cell_type": "markdown",
   "id": "281a0ee0-32cc-489d-b33e-cdaa6b9fb3d1",
   "metadata": {},
   "source": [
    "# Dummy Data Generator"
   ]
  },
  {
   "cell_type": "code",
   "execution_count": 1,
   "id": "c4f02ab5-8f18-4e64-8ecb-66eca6ce7693",
   "metadata": {},
   "outputs": [],
   "source": [
    "import pandas as pd\n",
    "import random\n",
    "import string\n",
    "from pyspark.sql import SparkSession\n",
    "from time import sleep\n",
    "from faker import Faker\n",
    "\n",
    "faker = Faker()"
   ]
  },
  {
   "cell_type": "code",
   "execution_count": 2,
   "id": "8bf6e9b3-98c5-4ba4-b682-dd9f994cfff9",
   "metadata": {},
   "outputs": [],
   "source": [
    "def generate_fake_iot(num=1):\n",
    "    # Fake devices\n",
    "    devices_list = ['device_1','device_2','device_3','device_4']\n",
    "\n",
    "    # Schema\n",
    "    output = [{\"device_id\":random.choice(devices_list),\n",
    "                   \"device_model_id\":''.join(random.choice(string.ascii_uppercase + string.digits) for _ in range(2)),\n",
    "                   \"building_area_id\":faker.city(),\n",
    "                   \"ts\":pd.Timestamp(pd.Timestamp.now(), unit='ms')\n",
    "                } for x in range(num)]\n",
    "    return output\n"
   ]
  },
  {
   "cell_type": "code",
   "execution_count": 4,
   "id": "47f79271-d631-41fb-a76e-d0629db3a806",
   "metadata": {},
   "outputs": [],
   "source": [
    "# See data\n",
    "for i in range(15):\n",
    "    df_iot = pd.DataFrame(generate_fake_iot(100))\n",
    "    df_iot.to_csv(f\"/home/sasa/Code/spark_jobs/datasets/file_{i}.csv\", encoding='utf-8', index=False, header=True)\n",
    "    sleep(10)"
   ]
  },
  {
   "cell_type": "code",
   "execution_count": null,
   "id": "94cd4f5e-5326-495c-a23a-cd6b3dba24c1",
   "metadata": {},
   "outputs": [],
   "source": []
  }
 ],
 "metadata": {
  "kernelspec": {
   "display_name": "Python 3 (ipykernel)",
   "language": "python",
   "name": "python3"
  },
  "language_info": {
   "codemirror_mode": {
    "name": "ipython",
    "version": 3
   },
   "file_extension": ".py",
   "mimetype": "text/x-python",
   "name": "python",
   "nbconvert_exporter": "python",
   "pygments_lexer": "ipython3",
   "version": "3.11.6"
  }
 },
 "nbformat": 4,
 "nbformat_minor": 5
}
