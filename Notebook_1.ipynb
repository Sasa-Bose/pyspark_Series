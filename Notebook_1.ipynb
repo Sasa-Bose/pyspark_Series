{
 "cells": [
  {
   "cell_type": "markdown",
   "id": "02543174-81aa-493c-b621-94a1d424c002",
   "metadata": {},
   "source": [
    "Load and query Yellow Taxi data\n",
    "Download the dataset from the official TLC Trip Record Data website."
   ]
  },
  {
   "cell_type": "code",
   "execution_count": 1,
   "id": "fa703bab-d1eb-4f2d-98fe-7caf89b983dc",
   "metadata": {},
   "outputs": [],
   "source": [
    "from pyspark.sql import SparkSession"
   ]
  },
  {
   "cell_type": "markdown",
   "id": "da0a396a-3615-48a3-bb75-9df4bcc61081",
   "metadata": {},
   "source": [
    "The --master option specifies the master URL for a distributed cluster, or local to run locally with one thread, or local[N] to run locally with N threads."
   ]
  },
  {
   "cell_type": "code",
   "execution_count": 2,
   "id": "0ffc7a75-2113-4746-836d-0a0ec31b984a",
   "metadata": {},
   "outputs": [
    {
     "name": "stderr",
     "output_type": "stream",
     "text": [
      "24/03/16 11:49:15 WARN Utils: Your hostname, sasa-1-2 resolves to a loopback address: 127.0.1.1; using 10.0.2.15 instead (on interface enp0s3)\n",
      "24/03/16 11:49:15 WARN Utils: Set SPARK_LOCAL_IP if you need to bind to another address\n",
      "Setting default log level to \"WARN\".\n",
      "To adjust logging level use sc.setLogLevel(newLevel). For SparkR, use setLogLevel(newLevel).\n",
      "24/03/16 11:49:16 WARN NativeCodeLoader: Unable to load native-hadoop library for your platform... using builtin-java classes where applicable\n"
     ]
    }
   ],
   "source": [
    "# Create SparkSession\n",
    "spark = SparkSession.builder\\\n",
    "             .master(\"local[1]\")\\\n",
    "             .appName(\"First_code\")\\\n",
    "             .getOrCreate()"
   ]
  },
  {
   "cell_type": "code",
   "execution_count": 4,
   "id": "68d15408-90b6-4433-be6e-5bc94a7e8342",
   "metadata": {},
   "outputs": [
    {
     "name": "stderr",
     "output_type": "stream",
     "text": [
      "                                                                                \r"
     ]
    }
   ],
   "source": [
    "# Read taxi data\n",
    "local_file = 'Downloads/Code/notebooks/datasets/parquet/'\n",
    "df = spark.read.parquet(local_file)"
   ]
  },
  {
   "cell_type": "code",
   "execution_count": 5,
   "id": "2303ffeb-624f-495d-9b43-5c059ad0adc7",
   "metadata": {},
   "outputs": [
    {
     "name": "stdout",
     "output_type": "stream",
     "text": [
      "root\n",
      " |-- VendorID: long (nullable = true)\n",
      " |-- tpep_pickup_datetime: timestamp_ntz (nullable = true)\n",
      " |-- tpep_dropoff_datetime: timestamp_ntz (nullable = true)\n",
      " |-- passenger_count: double (nullable = true)\n",
      " |-- trip_distance: double (nullable = true)\n",
      " |-- RatecodeID: double (nullable = true)\n",
      " |-- store_and_fwd_flag: string (nullable = true)\n",
      " |-- PULocationID: long (nullable = true)\n",
      " |-- DOLocationID: long (nullable = true)\n",
      " |-- payment_type: long (nullable = true)\n",
      " |-- fare_amount: double (nullable = true)\n",
      " |-- extra: double (nullable = true)\n",
      " |-- mta_tax: double (nullable = true)\n",
      " |-- tip_amount: double (nullable = true)\n",
      " |-- tolls_amount: double (nullable = true)\n",
      " |-- improvement_surcharge: double (nullable = true)\n",
      " |-- total_amount: double (nullable = true)\n",
      " |-- congestion_surcharge: double (nullable = true)\n",
      " |-- airport_fee: double (nullable = true)\n",
      "\n"
     ]
    }
   ],
   "source": [
    "# DF is like a relation table in memory. Let's see the columns\n",
    "df.printSchema()"
   ]
  },
  {
   "cell_type": "code",
   "execution_count": 6,
   "id": "8b52a673-9ed2-4631-8466-fe8a8954b946",
   "metadata": {},
   "outputs": [],
   "source": [
    "# Query sample:\n",
    "df2 = df.select('VendorID','total_amount').where('total_amount > 1')"
   ]
  },
  {
   "cell_type": "code",
   "execution_count": 7,
   "id": "09b6afa4-6247-4484-ac2d-6ac225f0ec62",
   "metadata": {},
   "outputs": [],
   "source": [
    "# Query sample:\n",
    "# df.select('VendorID','total_amount').where('total_amount > 1').show(n=5)\n",
    "# Query sample, using Spark SQL\n",
    "df.createOrReplaceTempView('tbl_raw_yellow_taxis')"
   ]
  },
  {
   "cell_type": "code",
   "execution_count": 8,
   "id": "d2579c36-afa0-4c49-a80d-479809bfebc9",
   "metadata": {},
   "outputs": [
    {
     "name": "stderr",
     "output_type": "stream",
     "text": [
      "                                                                                \r"
     ]
    },
    {
     "name": "stdout",
     "output_type": "stream",
     "text": [
      "+--------+--------------------+---------------+\n",
      "|VendorID|tpep_pickup_datetime|passenger_count|\n",
      "+--------+--------------------+---------------+\n",
      "|       1| 2023-01-01 00:43:37|            4.0|\n",
      "|       1| 2023-01-01 00:03:36|            3.0|\n",
      "|       1| 2023-01-01 00:21:49|            4.0|\n",
      "|       2| 2023-01-01 00:27:16|            4.0|\n",
      "|       2| 2023-01-01 00:15:13|            5.0|\n",
      "+--------+--------------------+---------------+\n",
      "only showing top 5 rows\n",
      "\n"
     ]
    }
   ],
   "source": [
    "# SQL Statement\n",
    "spark.sql('select VendorID, tpep_pickup_datetime, passenger_count from tbl_raw_yellow_taxis where total_amount > 1 and passenger_count > 2').show(n=5)"
   ]
  },
  {
   "cell_type": "code",
   "execution_count": 9,
   "id": "c8998774-f294-41c8-becc-d2d8b078d0a3",
   "metadata": {},
   "outputs": [],
   "source": [
    "# Stop the session\n",
    "spark.stop()"
   ]
  },
  {
   "cell_type": "code",
   "execution_count": null,
   "id": "47bf68f3-6cbc-4041-ba33-0480ebdf7b12",
   "metadata": {},
   "outputs": [],
   "source": []
  }
 ],
 "metadata": {
  "kernelspec": {
   "display_name": "Python 3 (ipykernel)",
   "language": "python",
   "name": "python3"
  },
  "language_info": {
   "codemirror_mode": {
    "name": "ipython",
    "version": 3
   },
   "file_extension": ".py",
   "mimetype": "text/x-python",
   "name": "python",
   "nbconvert_exporter": "python",
   "pygments_lexer": "ipython3",
   "version": "3.11.6"
  }
 },
 "nbformat": 4,
 "nbformat_minor": 5
}
