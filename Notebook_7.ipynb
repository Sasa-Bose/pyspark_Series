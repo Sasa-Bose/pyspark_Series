{
 "cells": [
  {
   "cell_type": "markdown",
   "id": "f151a834-cfd1-4ba5-bf69-f154ed0fbcb6",
   "metadata": {},
   "source": [
    "Some SQL Joins examples"
   ]
  },
  {
   "cell_type": "code",
   "execution_count": 2,
   "id": "a4e7912b-9fbd-4991-ba2b-28c47abc0104",
   "metadata": {},
   "outputs": [],
   "source": [
    "from pyspark.sql import SparkSession\n",
    "from pyspark.sql.types import StringType, StructField, StructType"
   ]
  },
  {
   "cell_type": "code",
   "execution_count": 3,
   "id": "2723a3c1-b3bb-4dbb-90fb-24015cfcd918",
   "metadata": {},
   "outputs": [
    {
     "name": "stderr",
     "output_type": "stream",
     "text": [
      "24/03/20 11:42:58 WARN Utils: Your hostname, sasa-1-2 resolves to a loopback address: 127.0.1.1; using 10.0.2.15 instead (on interface enp0s3)\n",
      "24/03/20 11:42:58 WARN Utils: Set SPARK_LOCAL_IP if you need to bind to another address\n",
      "Setting default log level to \"WARN\".\n",
      "To adjust logging level use sc.setLogLevel(newLevel). For SparkR, use setLogLevel(newLevel).\n",
      "24/03/20 11:42:58 WARN NativeCodeLoader: Unable to load native-hadoop library for your platform... using builtin-java classes where applicable\n"
     ]
    }
   ],
   "source": [
    "# Create SparkSession\n",
    "spark = SparkSession.builder\\\n",
    "             .master(\"local[1]\")\\\n",
    "             .appName(\"spark-app-version-x\")\\\n",
    "             .getOrCreate()"
   ]
  },
  {
   "cell_type": "code",
   "execution_count": 4,
   "id": "a94ed24f-7615-4561-aa4c-8c4e49d66874",
   "metadata": {},
   "outputs": [
    {
     "name": "stderr",
     "output_type": "stream",
     "text": [
      "                                                                                \r"
     ]
    }
   ],
   "source": [
    "# Read taxi data\n",
    "local_file = '/home/sasa/Downloads/Code/notebooks/datasets/parquet/'\n",
    "df = spark.read.parquet(local_file)"
   ]
  },
  {
   "cell_type": "code",
   "execution_count": 5,
   "id": "e9f0b4be-572c-4dc4-abfc-508304202b7b",
   "metadata": {},
   "outputs": [
    {
     "name": "stdout",
     "output_type": "stream",
     "text": [
      "root\n",
      " |-- VendorID: integer (nullable = true)\n",
      " |-- tpep_pickup_datetime: timestamp_ntz (nullable = true)\n",
      " |-- tpep_dropoff_datetime: timestamp_ntz (nullable = true)\n",
      " |-- passenger_count: long (nullable = true)\n",
      " |-- trip_distance: double (nullable = true)\n",
      " |-- RatecodeID: long (nullable = true)\n",
      " |-- store_and_fwd_flag: string (nullable = true)\n",
      " |-- PULocationID: integer (nullable = true)\n",
      " |-- DOLocationID: integer (nullable = true)\n",
      " |-- payment_type: long (nullable = true)\n",
      " |-- fare_amount: double (nullable = true)\n",
      " |-- extra: double (nullable = true)\n",
      " |-- mta_tax: double (nullable = true)\n",
      " |-- tip_amount: double (nullable = true)\n",
      " |-- tolls_amount: double (nullable = true)\n",
      " |-- improvement_surcharge: double (nullable = true)\n",
      " |-- total_amount: double (nullable = true)\n",
      " |-- congestion_surcharge: double (nullable = true)\n",
      " |-- Airport_fee: double (nullable = true)\n",
      "\n"
     ]
    }
   ],
   "source": [
    "# DF is like a relation table in memory. Let's see the columns\n",
    "df.printSchema()"
   ]
  },
  {
   "cell_type": "code",
   "execution_count": 6,
   "id": "c879d8da-57de-4469-ad0d-b91aa9b339b9",
   "metadata": {},
   "outputs": [],
   "source": [
    "# Query sample, using Spark SQL\n",
    "df.createOrReplaceTempView('tbl_raw_yellow_taxis')"
   ]
  },
  {
   "cell_type": "code",
   "execution_count": 7,
   "id": "7a1d4e06-382a-4d76-8631-b646e3b37311",
   "metadata": {},
   "outputs": [
    {
     "name": "stderr",
     "output_type": "stream",
     "text": [
      "                                                                                \r"
     ]
    },
    {
     "name": "stdout",
     "output_type": "stream",
     "text": [
      "+--------+--------------------+---------------------+---------------+-------------+----------+------------------+------------+------------+------------+-----------+-----+-------+----------+------------+---------------------+------------+--------------------+-----------+\n",
      "|VendorID|tpep_pickup_datetime|tpep_dropoff_datetime|passenger_count|trip_distance|RatecodeID|store_and_fwd_flag|PULocationID|DOLocationID|payment_type|fare_amount|extra|mta_tax|tip_amount|tolls_amount|improvement_surcharge|total_amount|congestion_surcharge|Airport_fee|\n",
      "+--------+--------------------+---------------------+---------------+-------------+----------+------------------+------------+------------+------------+-----------+-----+-------+----------+------------+---------------------+------------+--------------------+-----------+\n",
      "|       2| 2023-03-01 00:06:43|  2023-03-01 00:16:43|              1|          0.0|         1|                 N|         238|          42|           2|        8.6|  1.0|    0.5|       0.0|         0.0|                  1.0|        11.1|                 0.0|        0.0|\n",
      "|       2| 2023-03-01 00:08:25|  2023-03-01 00:39:30|              2|         12.4|         1|                 N|         138|         231|           1|       52.7|  6.0|    0.5|     12.54|         0.0|                  1.0|       76.49|                 2.5|       1.25|\n",
      "|       1| 2023-03-01 00:15:04|  2023-03-01 00:29:26|              0|          3.3|         1|                 N|         140|         186|           1|       18.4|  3.5|    0.5|      4.65|         0.0|                  1.0|       28.05|                 2.5|        0.0|\n",
      "|       1| 2023-03-01 00:49:37|  2023-03-01 01:01:05|              1|          2.9|         1|                 N|         140|          43|           1|       15.6|  3.5|    0.5|       4.1|         0.0|                  1.0|        24.7|                 2.5|        0.0|\n",
      "|       2| 2023-03-01 00:08:04|  2023-03-01 00:11:06|              1|         1.23|         1|                 N|          79|         137|           1|        7.2|  1.0|    0.5|      2.44|         0.0|                  1.0|       14.64|                 2.5|        0.0|\n",
      "+--------+--------------------+---------------------+---------------+-------------+----------+------------------+------------+------------+------------+-----------+-----+-------+----------+------------+---------------------+------------+--------------------+-----------+\n",
      "only showing top 5 rows\n",
      "\n"
     ]
    }
   ],
   "source": [
    "# SQL Statement\n",
    "spark.sql('''\n",
    "          select *\n",
    "          from tbl_raw_yellow_taxis\n",
    "          ''').show(n=5)"
   ]
  },
  {
   "cell_type": "markdown",
   "id": "17bdff73-c9ac-4ef9-b30b-67ee1b0d3e27",
   "metadata": {},
   "source": [
    "Let's create a real \"dimension\" table, for our RateCodeID\n",
    "Standard rate\n",
    "JFK\n",
    "Newark\n",
    "Nassau or Westchester\n",
    "Negotiated fare\n",
    "Group ride"
   ]
  },
  {
   "cell_type": "code",
   "execution_count": 21,
   "id": "d98684e1-89c0-44fd-b125-e3586ea9cbf8",
   "metadata": {},
   "outputs": [],
   "source": [
    "# Add Rate Code IDs\n",
    "data = [(\"1\", \"Standard rate\"), (\"2\", \"JFK\"), (\"3\", \"Newark\"),(\"4\",\"Nassau or Westchester \"),(\"5\",\"Negotiated fare\"), (\"6\",\"Group ride\")]"
   ]
  },
  {
   "cell_type": "code",
   "execution_count": 22,
   "id": "628630ec-b725-4e34-b68e-9f74d0a10079",
   "metadata": {},
   "outputs": [],
   "source": [
    "# Define schema, to ensure data types\n",
    "schema = StructType([ \\\n",
    "    StructField(\"rate_code_ID\",StringType(),True), \\\n",
    "    StructField(\"RatecodeName\",StringType(),True)\n",
    "  ])"
   ]
  },
  {
   "cell_type": "code",
   "execution_count": 23,
   "id": "08d760a6-d174-4005-9506-3f10c861c3d0",
   "metadata": {},
   "outputs": [],
   "source": [
    "# Create Dataframe for Rate Codes\n",
    "df_rate_codes = spark.createDataFrame(data=data,schema=schema)"
   ]
  },
  {
   "cell_type": "code",
   "execution_count": 24,
   "id": "8d5cba28-661c-48f6-b7df-c484066369b8",
   "metadata": {},
   "outputs": [
    {
     "name": "stdout",
     "output_type": "stream",
     "text": [
      "+------------+--------------------+\n",
      "|rate_code_ID|        RatecodeName|\n",
      "+------------+--------------------+\n",
      "|           1|       Standard rate|\n",
      "|           2|                 JFK|\n",
      "|           3|              Newark|\n",
      "|           4|Nassau or Westche...|\n",
      "|           5|     Negotiated fare|\n",
      "|           6|          Group ride|\n",
      "+------------+--------------------+\n",
      "\n"
     ]
    }
   ],
   "source": [
    "# Show rates\n",
    "df_rate_codes.show()"
   ]
  },
  {
   "cell_type": "code",
   "execution_count": 25,
   "id": "7f5b2229-d03d-414f-a2df-ee5d015aabf1",
   "metadata": {},
   "outputs": [
    {
     "name": "stderr",
     "output_type": "stream",
     "text": [
      "[Stage 22:>                                                         (0 + 1) / 1]\r"
     ]
    },
    {
     "name": "stdout",
     "output_type": "stream",
     "text": [
      "+--------+--------------------+---------------------+---------------+-------------+----------+------------------+------------+------------+------------+-----------+-----+-------+----------+------------+---------------------+------------+--------------------+-----------+------------+---------------+\n",
      "|VendorID|tpep_pickup_datetime|tpep_dropoff_datetime|passenger_count|trip_distance|RatecodeID|store_and_fwd_flag|PULocationID|DOLocationID|payment_type|fare_amount|extra|mta_tax|tip_amount|tolls_amount|improvement_surcharge|total_amount|congestion_surcharge|Airport_fee|rate_code_ID|   RatecodeName|\n",
      "+--------+--------------------+---------------------+---------------+-------------+----------+------------------+------------+------------+------------+-----------+-----+-------+----------+------------+---------------------+------------+--------------------+-----------+------------+---------------+\n",
      "|       2| 2023-03-01 00:29:33|  2023-03-01 00:29:36|              1|         0.29|         5|                 N|         164|         170|           1|       63.0|  0.0|    0.5|      0.65|         0.0|                  1.0|       65.15|                 0.0|        0.0|           5|Negotiated fare|\n",
      "|       2| 2023-03-01 00:51:31|  2023-03-01 02:10:58|              1|        75.57|         5|                 N|         132|         265|           1|      400.0|  0.0|    0.0|      80.2|         0.0|                  1.0|      482.45|                 0.0|       1.25|           5|Negotiated fare|\n",
      "|       2| 2023-03-01 00:44:24|  2023-03-01 00:44:35|              1|          0.0|         5|                 N|         189|         189|           1|       40.0|  0.0|    0.0|      12.3|         0.0|                  1.0|        53.3|                 0.0|        0.0|           5|Negotiated fare|\n",
      "|       2| 2023-03-01 00:24:09|  2023-03-01 01:09:50|              1|        29.12|         5|                 N|         193|         265|           1|       70.0|  0.0|    0.0|      14.2|         0.0|                  1.0|        85.2|                 0.0|        0.0|           5|Negotiated fare|\n",
      "|       2| 2023-03-01 00:01:00|  2023-03-01 00:01:12|              1|          0.0|         5|                 N|         263|         263|           1|       50.2|  0.0|    0.0|       0.0|         0.0|                  1.0|        53.7|                 2.5|        0.0|           5|Negotiated fare|\n",
      "+--------+--------------------+---------------------+---------------+-------------+----------+------------------+------------+------------+------------+-----------+-----+-------+----------+------------+---------------------+------------+--------------------+-----------+------------+---------------+\n",
      "only showing top 5 rows\n",
      "\n"
     ]
    },
    {
     "name": "stderr",
     "output_type": "stream",
     "text": [
      "                                                                                \r"
     ]
    }
   ],
   "source": [
    "# Inner join example:\n",
    "df.join(df_rate_codes, df[\"RatecodeID\"] == df_rate_codes[\"rate_code_ID\"], \"inner\").show(n=5)"
   ]
  },
  {
   "cell_type": "code",
   "execution_count": 26,
   "id": "cc925f90-5a66-4d5c-b144-25739bad4ede",
   "metadata": {},
   "outputs": [
    {
     "name": "stderr",
     "output_type": "stream",
     "text": [
      "[Stage 27:>                                                         (0 + 1) / 1]\r"
     ]
    },
    {
     "name": "stdout",
     "output_type": "stream",
     "text": [
      "+--------+--------------------+---------------------+---------------+-------------+----------+------------------+------------+------------+------------+-----------+-----+-------+----------+------------+---------------------+------------+--------------------+-----------+------------+------------+\n",
      "|VendorID|tpep_pickup_datetime|tpep_dropoff_datetime|passenger_count|trip_distance|RatecodeID|store_and_fwd_flag|PULocationID|DOLocationID|payment_type|fare_amount|extra|mta_tax|tip_amount|tolls_amount|improvement_surcharge|total_amount|congestion_surcharge|Airport_fee|rate_code_ID|RatecodeName|\n",
      "+--------+--------------------+---------------------+---------------+-------------+----------+------------------+------------+------------+------------+-----------+-----+-------+----------+------------+---------------------+------------+--------------------+-----------+------------+------------+\n",
      "|       2| 2023-03-01 00:42:33|  2023-03-01 00:49:05|           NULL|         1.38|      NULL|              NULL|         163|         229|           0|      13.35|  0.0|    0.5|      3.47|         0.0|                  1.0|       20.82|                NULL|       NULL|        NULL|        NULL|\n",
      "|       1| 2023-03-01 00:32:08|  2023-03-01 00:38:15|           NULL|          0.0|      NULL|              NULL|         107|         113|           0|        8.0|  1.0|    0.5|      1.95|         0.0|                  1.0|       16.95|                NULL|       NULL|        NULL|        NULL|\n",
      "|       2| 2023-03-01 00:18:00|  2023-03-01 00:31:00|           NULL|         2.79|      NULL|              NULL|         137|          48|           0|      14.98|  0.0|    0.5|       3.0|         0.0|                  1.0|       21.98|                NULL|       NULL|        NULL|        NULL|\n",
      "|       2| 2023-03-01 00:23:32|  2023-03-01 00:33:43|           NULL|         3.43|      NULL|              NULL|         137|         236|           0|      16.77|  0.0|    0.5|       3.1|         0.0|                  1.0|       23.87|                NULL|       NULL|        NULL|        NULL|\n",
      "|       2| 2023-03-01 00:02:50|  2023-03-01 00:23:39|           NULL|         4.52|      NULL|              NULL|         143|           4|           0|      25.39|  0.0|    0.5|      2.94|         0.0|                  1.0|       32.33|                NULL|       NULL|        NULL|        NULL|\n",
      "|       1| 2023-03-01 00:19:33|  2023-03-01 00:23:21|           NULL|          0.5|      NULL|              NULL|         237|         140|           0|        5.8|  1.0|    0.5|      2.16|         0.0|                  1.0|       12.96|                NULL|       NULL|        NULL|        NULL|\n",
      "|       2| 2023-03-01 00:11:48|  2023-03-01 00:41:52|           NULL|          6.3|      NULL|              NULL|         113|         151|           0|      26.48|  0.0|    0.5|      3.05|         0.0|                  1.0|       33.53|                NULL|       NULL|        NULL|        NULL|\n",
      "|       2| 2023-03-01 00:55:48|  2023-03-01 01:15:11|           NULL|         5.92|      NULL|              NULL|         231|         236|           0|      24.96|  0.0|    0.5|      5.79|         0.0|                  1.0|       34.75|                NULL|       NULL|        NULL|        NULL|\n",
      "|       2| 2023-03-01 00:03:00|  2023-03-01 00:18:00|           NULL|         4.54|      NULL|              NULL|         249|         140|           0|      20.24|  0.0|    0.5|      3.64|         0.0|                  1.0|       27.88|                NULL|       NULL|        NULL|        NULL|\n",
      "|       2| 2023-03-01 00:07:42|  2023-03-01 00:13:51|           NULL|         1.09|      NULL|              NULL|         161|         229|           0|      12.95|  0.0|    0.5|      3.39|         0.0|                  1.0|       20.34|                NULL|       NULL|        NULL|        NULL|\n",
      "|       2| 2023-03-01 00:29:41|  2023-03-01 00:43:56|           NULL|          3.5|      NULL|              NULL|         161|          79|           0|      16.49|  0.0|    0.5|       4.1|         0.0|                  1.0|       24.59|                NULL|       NULL|        NULL|        NULL|\n",
      "|       1| 2023-03-01 00:36:41|  2023-03-01 00:44:30|           NULL|          1.7|      NULL|              NULL|         114|          87|           0|       10.0|  1.0|    0.5|       3.0|         0.0|                  1.0|        18.0|                NULL|       NULL|        NULL|        NULL|\n",
      "|       2| 2023-03-01 00:49:25|  2023-03-01 01:13:18|           NULL|         5.88|      NULL|              NULL|         234|         225|           0|      25.55|  0.0|    0.5|       0.0|         0.0|                  1.0|       29.55|                NULL|       NULL|        NULL|        NULL|\n",
      "|       2| 2023-03-01 00:27:59|  2023-03-01 00:41:02|           NULL|         3.45|      NULL|              NULL|         249|          50|           0|      16.96|  0.0|    0.5|       0.0|         0.0|                  1.0|       20.96|                NULL|       NULL|        NULL|        NULL|\n",
      "|       2| 2023-03-01 00:47:00|  2023-03-01 01:09:00|           NULL|         5.53|      NULL|              NULL|         114|          61|           0|      23.48|  0.0|    0.5|       5.5|         0.0|                  1.0|       32.98|                NULL|       NULL|        NULL|        NULL|\n",
      "|       2| 2023-03-01 00:03:54|  2023-03-01 00:25:17|           NULL|         5.42|      NULL|              NULL|          87|         142|           0|      30.52|  0.0|    0.5|       6.9|         0.0|                  1.0|       41.42|                NULL|       NULL|        NULL|        NULL|\n",
      "|       2| 2023-03-01 00:28:58|  2023-03-01 00:39:20|           NULL|         3.21|      NULL|              NULL|         100|         232|           0|      15.56|  0.0|    0.5|      3.91|         0.0|                  1.0|       23.47|                NULL|       NULL|        NULL|        NULL|\n",
      "|       1| 2023-03-01 00:12:07|  2023-03-01 00:24:12|           NULL|          0.0|      NULL|              NULL|         158|         148|           0|      12.88|  0.0|    0.5|       0.0|         0.0|                  1.0|       16.88|                NULL|       NULL|        NULL|        NULL|\n",
      "|       2| 2023-03-01 00:14:50|  2023-03-01 00:20:16|           NULL|         1.06|      NULL|              NULL|         231|          87|           0|      12.95|  0.0|    0.5|      3.39|         0.0|                  1.0|       20.34|                NULL|       NULL|        NULL|        NULL|\n",
      "|       2| 2023-03-01 00:19:09|  2023-03-01 00:38:41|           NULL|         3.99|      NULL|              NULL|          61|          36|           0|      18.06|  0.0|    0.5|      3.91|         0.0|                  1.0|       23.47|                NULL|       NULL|        NULL|        NULL|\n",
      "+--------+--------------------+---------------------+---------------+-------------+----------+------------------+------------+------------+------------+-----------+-----+-------+----------+------------+---------------------+------------+--------------------+-----------+------------+------------+\n",
      "only showing top 20 rows\n",
      "\n"
     ]
    },
    {
     "name": "stderr",
     "output_type": "stream",
     "text": [
      "                                                                                \r"
     ]
    }
   ],
   "source": [
    "# Left join example, showing those WITH NO rate code:\n",
    "df.join(df_rate_codes, df[\"RatecodeID\"] == df_rate_codes[\"rate_code_ID\"], \"left\").where(\"RatecodeID is NULL\").show()"
   ]
  },
  {
   "cell_type": "code",
   "execution_count": 30,
   "id": "7499d990-e93a-4ae0-8c53-2029c10e7175",
   "metadata": {},
   "outputs": [
    {
     "name": "stdout",
     "output_type": "stream",
     "text": [
      "+----------+--------+\n",
      "|RatecodeID|count(1)|\n",
      "+----------+--------+\n",
      "|      NULL|  255126|\n",
      "|         6|      14|\n",
      "|         5|   45262|\n",
      "|         1| 8849004|\n",
      "|         3|   30360|\n",
      "|         2|  361464|\n",
      "|         4|   15839|\n",
      "|        99|   48902|\n",
      "+----------+--------+\n",
      "\n"
     ]
    }
   ],
   "source": [
    "# SQL Statement\n",
    "spark.sql('''\n",
    "          select RatecodeID, count(1)\n",
    "          from tbl_raw_yellow_taxis\n",
    "          group by RatecodeID\n",
    "          ''').show(n=20)"
   ]
  },
  {
   "cell_type": "code",
   "execution_count": 31,
   "id": "0248dc1c-dd5c-47d6-a27f-ead3df5aabe4",
   "metadata": {},
   "outputs": [],
   "source": [
    "# If user doesn't want to see NULL values\n",
    "df_na_rate_codes = df.na.fill(value=0,subset=[\"RatecodeID\"])"
   ]
  },
  {
   "cell_type": "code",
   "execution_count": 32,
   "id": "c71322da-dca3-4bb7-ae06-dbabb9e0ea2c",
   "metadata": {},
   "outputs": [
    {
     "name": "stdout",
     "output_type": "stream",
     "text": [
      "+--------+--------------------+---------------------+---------------+-------------+----------+------------------+------------+------------+------------+-----------+-----+-------+----------+------------+---------------------+------------+--------------------+-----------+------------+------------+\n",
      "|VendorID|tpep_pickup_datetime|tpep_dropoff_datetime|passenger_count|trip_distance|RatecodeID|store_and_fwd_flag|PULocationID|DOLocationID|payment_type|fare_amount|extra|mta_tax|tip_amount|tolls_amount|improvement_surcharge|total_amount|congestion_surcharge|Airport_fee|rate_code_ID|RatecodeName|\n",
      "+--------+--------------------+---------------------+---------------+-------------+----------+------------------+------------+------------+------------+-----------+-----+-------+----------+------------+---------------------+------------+--------------------+-----------+------------+------------+\n",
      "+--------+--------------------+---------------------+---------------+-------------+----------+------------------+------------+------------+------------+-----------+-----+-------+----------+------------+---------------------+------------+--------------------+-----------+------------+------------+\n",
      "\n"
     ]
    }
   ],
   "source": [
    "# Left join example, showing those WITH NO rate code:\n",
    "df_na_rate_codes.join(df_rate_codes, df_na_rate_codes[\"RatecodeID\"] == df_rate_codes[\"rate_code_id\"], \"left\").where(\"RatecodeID is NULL\").show()"
   ]
  },
  {
   "cell_type": "code",
   "execution_count": 33,
   "id": "740f171a-aaf5-4fce-9a0b-1f205104b2c4",
   "metadata": {},
   "outputs": [],
   "source": [
    "# Confirm counts\n",
    "df_na_rate_codes.createOrReplaceTempView('tbl_na_rate_codes')"
   ]
  },
  {
   "cell_type": "code",
   "execution_count": 35,
   "id": "860ae39e-00b7-418e-bd53-771d3fa0fa75",
   "metadata": {},
   "outputs": [
    {
     "name": "stdout",
     "output_type": "stream",
     "text": [
      "+----------+--------+\n",
      "|RatecodeID|count(1)|\n",
      "+----------+--------+\n",
      "|         0|  255126|\n",
      "|         6|      14|\n",
      "|         5|   45262|\n",
      "|         1| 8849004|\n",
      "|         3|   30360|\n",
      "|         2|  361464|\n",
      "|         4|   15839|\n",
      "|        99|   48902|\n",
      "+----------+--------+\n",
      "\n"
     ]
    }
   ],
   "source": [
    "# SQL Statement\n",
    "spark.sql('''\n",
    "          select RatecodeID, count(1)\n",
    "          from tbl_na_rate_codes\n",
    "          group by RatecodeID\n",
    "          ''').show(n=20)"
   ]
  },
  {
   "cell_type": "code",
   "execution_count": 36,
   "id": "d00143d7-758a-4f5d-8aac-7abc364774cd",
   "metadata": {},
   "outputs": [],
   "source": [
    "# Stop the session\n",
    "spark.stop()"
   ]
  },
  {
   "cell_type": "code",
   "execution_count": null,
   "id": "7a9f74f6-1126-48b5-99fb-43b4a88fc620",
   "metadata": {},
   "outputs": [],
   "source": []
  }
 ],
 "metadata": {
  "kernelspec": {
   "display_name": "Python 3 (ipykernel)",
   "language": "python",
   "name": "python3"
  },
  "language_info": {
   "codemirror_mode": {
    "name": "ipython",
    "version": 3
   },
   "file_extension": ".py",
   "mimetype": "text/x-python",
   "name": "python",
   "nbconvert_exporter": "python",
   "pygments_lexer": "ipython3",
   "version": "3.11.6"
  }
 },
 "nbformat": 4,
 "nbformat_minor": 5
}
