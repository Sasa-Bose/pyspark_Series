{
 "cells": [
  {
   "cell_type": "markdown",
   "id": "5d51c702-e95b-4236-8e09-eec824ec6d83",
   "metadata": {},
   "source": [
    "Load and query text data, to create RDD"
   ]
  },
  {
   "cell_type": "code",
   "execution_count": 1,
   "id": "ab682c81-69e5-4b0b-9e71-a2dc6d7e55ad",
   "metadata": {},
   "outputs": [],
   "source": [
    "from pyspark import SparkContext"
   ]
  },
  {
   "cell_type": "code",
   "execution_count": 4,
   "id": "113d1c2d-5970-4a77-9646-3be2b7d4795c",
   "metadata": {},
   "outputs": [],
   "source": [
    "def word_count(file_path):\n",
    "    \"\"\"\n",
    "    The word_count function takes a file path as input, performing a simple word count using SparkContext. \n",
    "    \"\"\"\n",
    "    # Create a SparkContext\n",
    "    sc = SparkContext(appName=\"WordCount\")\n",
    "\n",
    "    try:\n",
    "        # Read the text file and split it into words\n",
    "        lines = sc.textFile(file_path)\n",
    "        words = lines.flatMap(lambda line: line.split(\" \"))\n",
    "        \n",
    "        # Count the occurrences of each word\n",
    "        word_counts = words.countByValue()\n",
    "\n",
    "        # Print the word counts\n",
    "        for word, count in word_counts.items():\n",
    "            print(f\"{word}: {count}\")\n",
    "\n",
    "    finally:\n",
    "        # Stop the SparkContext\n",
    "        sc.stop()"
   ]
  },
  {
   "cell_type": "code",
   "execution_count": 14,
   "id": "4d152ed0-fbcd-4fe4-a30a-3847d092fd9e",
   "metadata": {
    "scrolled": true
   },
   "outputs": [
    {
     "name": "stderr",
     "output_type": "stream",
     "text": [
      "                                                                                \r"
     ]
    },
    {
     "name": "stdout",
     "output_type": "stream",
     "text": [
      "I: 2\n",
      "live: 1\n",
      "in: 3\n",
      "the: 2\n",
      "UK,: 2\n",
      "although: 1\n",
      "was: 1\n",
      "not: 1\n",
      "born: 1\n",
      "but: 1\n",
      "Mexico!: 1\n"
     ]
    }
   ],
   "source": [
    "# Example usage\n",
    "word_count(\"/home/docs/rd\")\n"
   ]
  },
  {
   "cell_type": "code",
   "execution_count": null,
   "id": "80cf84e3-4c42-4a8f-b053-8f603917dc7c",
   "metadata": {},
   "outputs": [],
   "source": []
  }
 ],
 "metadata": {
  "kernelspec": {
   "display_name": "Python 3 (ipykernel)",
   "language": "python",
   "name": "python3"
  },
  "language_info": {
   "codemirror_mode": {
    "name": "ipython",
    "version": 3
   },
   "file_extension": ".py",
   "mimetype": "text/x-python",
   "name": "python",
   "nbconvert_exporter": "python",
   "pygments_lexer": "ipython3",
   "version": "3.11.6"
  }
 },
 "nbformat": 4,
 "nbformat_minor": 5
}
